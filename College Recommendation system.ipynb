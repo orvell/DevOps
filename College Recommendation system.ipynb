{
 "cells": [
  {
   "cell_type": "code",
   "execution_count": 1,
   "metadata": {
    "id": "cuXpR-WT8omw"
   },
   "outputs": [],
   "source": [
    "import pandas as pd\n",
    "import numpy as np\n",
    "pd.options.mode.chained_assignment = None\n",
    "import matplotlib.pyplot as plt  \n",
    "import seaborn as sns\n",
    "%matplotlib inline"
   ]
  },
  {
   "cell_type": "code",
   "execution_count": 2,
   "metadata": {
    "colab": {
     "base_uri": "https://localhost:8080/",
     "height": 340
    },
    "id": "wlQgdSr87djc",
    "outputId": "30f917f2-e6c0-4a8e-9965-f44884e8b7dc"
   },
   "outputs": [
    {
     "name": "stdout",
     "output_type": "stream",
     "text": [
      "Data Imported\n"
     ]
    },
    {
     "data": {
      "text/html": [
       "<div>\n",
       "<style scoped>\n",
       "    .dataframe tbody tr th:only-of-type {\n",
       "        vertical-align: middle;\n",
       "    }\n",
       "\n",
       "    .dataframe tbody tr th {\n",
       "        vertical-align: top;\n",
       "    }\n",
       "\n",
       "    .dataframe thead th {\n",
       "        text-align: right;\n",
       "    }\n",
       "</style>\n",
       "<table border=\"1\" class=\"dataframe\">\n",
       "  <thead>\n",
       "    <tr style=\"text-align: right;\">\n",
       "      <th></th>\n",
       "      <th>Unnamed: 0</th>\n",
       "      <th>submissionId</th>\n",
       "      <th>submissionDate</th>\n",
       "      <th>sem</th>\n",
       "      <th>notif_result</th>\n",
       "      <th>notif_date</th>\n",
       "      <th>studentType</th>\n",
       "      <th>gpa</th>\n",
       "      <th>gre_v</th>\n",
       "      <th>gre_q</th>\n",
       "      <th>gre_w</th>\n",
       "      <th>institution</th>\n",
       "      <th>major</th>\n",
       "      <th>degree</th>\n",
       "    </tr>\n",
       "  </thead>\n",
       "  <tbody>\n",
       "    <tr>\n",
       "      <th>0</th>\n",
       "      <td>0</td>\n",
       "      <td>64506</td>\n",
       "      <td>01-12-2010</td>\n",
       "      <td>F10</td>\n",
       "      <td>Accepted</td>\n",
       "      <td>11/26/2009</td>\n",
       "      <td>A</td>\n",
       "      <td>3.60</td>\n",
       "      <td>154</td>\n",
       "      <td>155</td>\n",
       "      <td>0.0</td>\n",
       "      <td>University College London (UCL)  https://www.u...</td>\n",
       "      <td>Public Policy</td>\n",
       "      <td>Master's</td>\n",
       "    </tr>\n",
       "    <tr>\n",
       "      <th>1</th>\n",
       "      <td>1</td>\n",
       "      <td>64507</td>\n",
       "      <td>01-12-2010</td>\n",
       "      <td>F10</td>\n",
       "      <td>Accepted</td>\n",
       "      <td>01-11-2010</td>\n",
       "      <td>A</td>\n",
       "      <td>3.60</td>\n",
       "      <td>154</td>\n",
       "      <td>155</td>\n",
       "      <td>0.0</td>\n",
       "      <td>London School of Economics and Political Scien...</td>\n",
       "      <td>Public Administration</td>\n",
       "      <td>Master's</td>\n",
       "    </tr>\n",
       "    <tr>\n",
       "      <th>2</th>\n",
       "      <td>2</td>\n",
       "      <td>64902</td>\n",
       "      <td>1/19/2010</td>\n",
       "      <td>F10</td>\n",
       "      <td>Accepted</td>\n",
       "      <td>12-09-2009</td>\n",
       "      <td>A</td>\n",
       "      <td>3.75</td>\n",
       "      <td>167</td>\n",
       "      <td>161</td>\n",
       "      <td>0.0</td>\n",
       "      <td>Cornell University https://www.cornell.edu/</td>\n",
       "      <td>Public Administration</td>\n",
       "      <td>Master's</td>\n",
       "    </tr>\n",
       "    <tr>\n",
       "      <th>3</th>\n",
       "      <td>3</td>\n",
       "      <td>64989</td>\n",
       "      <td>1/20/2010</td>\n",
       "      <td>F10</td>\n",
       "      <td>Accepted</td>\n",
       "      <td>1/16/2010</td>\n",
       "      <td>I</td>\n",
       "      <td>3.56</td>\n",
       "      <td>156</td>\n",
       "      <td>161</td>\n",
       "      <td>4.5</td>\n",
       "      <td>University of Southern California (USC) https:...</td>\n",
       "      <td>Computer Science</td>\n",
       "      <td>Master's</td>\n",
       "    </tr>\n",
       "    <tr>\n",
       "      <th>4</th>\n",
       "      <td>4</td>\n",
       "      <td>65339</td>\n",
       "      <td>1/25/2010</td>\n",
       "      <td>F10</td>\n",
       "      <td>Accepted</td>\n",
       "      <td>1/25/2010</td>\n",
       "      <td>I</td>\n",
       "      <td>4.00</td>\n",
       "      <td>165</td>\n",
       "      <td>166</td>\n",
       "      <td>4.5</td>\n",
       "      <td>Stanford University https://www.stanford.edu/</td>\n",
       "      <td>Mechanical Engineering</td>\n",
       "      <td>Master's</td>\n",
       "    </tr>\n",
       "  </tbody>\n",
       "</table>\n",
       "</div>"
      ],
      "text/plain": [
       "   Unnamed: 0  submissionId submissionDate  sem notif_result  notif_date  \\\n",
       "0           0         64506     01-12-2010  F10     Accepted  11/26/2009   \n",
       "1           1         64507     01-12-2010  F10     Accepted  01-11-2010   \n",
       "2           2         64902      1/19/2010  F10     Accepted  12-09-2009   \n",
       "3           3         64989      1/20/2010  F10     Accepted   1/16/2010   \n",
       "4           4         65339      1/25/2010  F10     Accepted   1/25/2010   \n",
       "\n",
       "  studentType   gpa  gre_v  gre_q  gre_w  \\\n",
       "0           A  3.60    154    155    0.0   \n",
       "1           A  3.60    154    155    0.0   \n",
       "2           A  3.75    167    161    0.0   \n",
       "3           I  3.56    156    161    4.5   \n",
       "4           I  4.00    165    166    4.5   \n",
       "\n",
       "                                         institution                   major  \\\n",
       "0  University College London (UCL)  https://www.u...           Public Policy   \n",
       "1  London School of Economics and Political Scien...   Public Administration   \n",
       "2        Cornell University https://www.cornell.edu/   Public Administration   \n",
       "3  University of Southern California (USC) https:...        Computer Science   \n",
       "4      Stanford University https://www.stanford.edu/  Mechanical Engineering   \n",
       "\n",
       "     degree  \n",
       "0  Master's  \n",
       "1  Master's  \n",
       "2  Master's  \n",
       "3  Master's  \n",
       "4  Master's  "
      ]
     },
     "execution_count": 2,
     "metadata": {},
     "output_type": "execute_result"
    }
   ],
   "source": [
    "df=pd.read_csv(\"dataset.csv\")\n",
    "print(\"Data Imported\")\n",
    "df.head()"
   ]
  },
  {
   "cell_type": "code",
   "execution_count": 3,
   "metadata": {
    "id": "6pfByGw09p8F"
   },
   "outputs": [],
   "source": [
    "df=df.dropna(subset=['gpa'])"
   ]
  },
  {
   "cell_type": "code",
   "execution_count": 4,
   "metadata": {
    "colab": {
     "base_uri": "https://localhost:8080/",
     "height": 204
    },
    "id": "F29_Ion-8h3Q",
    "outputId": "b7ffc024-4006-40f9-9af0-df979221d287"
   },
   "outputs": [
    {
     "data": {
      "text/html": [
       "<div>\n",
       "<style scoped>\n",
       "    .dataframe tbody tr th:only-of-type {\n",
       "        vertical-align: middle;\n",
       "    }\n",
       "\n",
       "    .dataframe tbody tr th {\n",
       "        vertical-align: top;\n",
       "    }\n",
       "\n",
       "    .dataframe thead th {\n",
       "        text-align: right;\n",
       "    }\n",
       "</style>\n",
       "<table border=\"1\" class=\"dataframe\">\n",
       "  <thead>\n",
       "    <tr style=\"text-align: right;\">\n",
       "      <th></th>\n",
       "      <th>sem</th>\n",
       "      <th>notif_result</th>\n",
       "      <th>studentType</th>\n",
       "      <th>gpa</th>\n",
       "      <th>gre_v</th>\n",
       "      <th>gre_q</th>\n",
       "      <th>gre_w</th>\n",
       "      <th>institution</th>\n",
       "      <th>major</th>\n",
       "      <th>degree</th>\n",
       "    </tr>\n",
       "  </thead>\n",
       "  <tbody>\n",
       "    <tr>\n",
       "      <th>0</th>\n",
       "      <td>F10</td>\n",
       "      <td>Accepted</td>\n",
       "      <td>A</td>\n",
       "      <td>3.60</td>\n",
       "      <td>154</td>\n",
       "      <td>155</td>\n",
       "      <td>0.0</td>\n",
       "      <td>University College London (UCL)  https://www.u...</td>\n",
       "      <td>Public Policy</td>\n",
       "      <td>Master's</td>\n",
       "    </tr>\n",
       "    <tr>\n",
       "      <th>1</th>\n",
       "      <td>F10</td>\n",
       "      <td>Accepted</td>\n",
       "      <td>A</td>\n",
       "      <td>3.60</td>\n",
       "      <td>154</td>\n",
       "      <td>155</td>\n",
       "      <td>0.0</td>\n",
       "      <td>London School of Economics and Political Scien...</td>\n",
       "      <td>Public Administration</td>\n",
       "      <td>Master's</td>\n",
       "    </tr>\n",
       "    <tr>\n",
       "      <th>2</th>\n",
       "      <td>F10</td>\n",
       "      <td>Accepted</td>\n",
       "      <td>A</td>\n",
       "      <td>3.75</td>\n",
       "      <td>167</td>\n",
       "      <td>161</td>\n",
       "      <td>0.0</td>\n",
       "      <td>Cornell University https://www.cornell.edu/</td>\n",
       "      <td>Public Administration</td>\n",
       "      <td>Master's</td>\n",
       "    </tr>\n",
       "    <tr>\n",
       "      <th>3</th>\n",
       "      <td>F10</td>\n",
       "      <td>Accepted</td>\n",
       "      <td>I</td>\n",
       "      <td>3.56</td>\n",
       "      <td>156</td>\n",
       "      <td>161</td>\n",
       "      <td>4.5</td>\n",
       "      <td>University of Southern California (USC) https:...</td>\n",
       "      <td>Computer Science</td>\n",
       "      <td>Master's</td>\n",
       "    </tr>\n",
       "    <tr>\n",
       "      <th>4</th>\n",
       "      <td>F10</td>\n",
       "      <td>Accepted</td>\n",
       "      <td>I</td>\n",
       "      <td>4.00</td>\n",
       "      <td>165</td>\n",
       "      <td>166</td>\n",
       "      <td>4.5</td>\n",
       "      <td>Stanford University https://www.stanford.edu/</td>\n",
       "      <td>Mechanical Engineering</td>\n",
       "      <td>Master's</td>\n",
       "    </tr>\n",
       "  </tbody>\n",
       "</table>\n",
       "</div>"
      ],
      "text/plain": [
       "   sem notif_result studentType   gpa  gre_v  gre_q  gre_w  \\\n",
       "0  F10     Accepted           A  3.60    154    155    0.0   \n",
       "1  F10     Accepted           A  3.60    154    155    0.0   \n",
       "2  F10     Accepted           A  3.75    167    161    0.0   \n",
       "3  F10     Accepted           I  3.56    156    161    4.5   \n",
       "4  F10     Accepted           I  4.00    165    166    4.5   \n",
       "\n",
       "                                         institution                   major  \\\n",
       "0  University College London (UCL)  https://www.u...           Public Policy   \n",
       "1  London School of Economics and Political Scien...   Public Administration   \n",
       "2        Cornell University https://www.cornell.edu/   Public Administration   \n",
       "3  University of Southern California (USC) https:...        Computer Science   \n",
       "4      Stanford University https://www.stanford.edu/  Mechanical Engineering   \n",
       "\n",
       "     degree  \n",
       "0  Master's  \n",
       "1  Master's  \n",
       "2  Master's  \n",
       "3  Master's  \n",
       "4  Master's  "
      ]
     },
     "execution_count": 4,
     "metadata": {},
     "output_type": "execute_result"
    }
   ],
   "source": [
    "df=df.drop([\"Unnamed: 0\",\"submissionId\",\"submissionDate\",\"notif_date\"],axis=1)\n",
    "df.head()"
   ]
  },
  {
   "cell_type": "markdown",
   "metadata": {
    "id": "WBYvb7YcamRQ"
   },
   "source": [
    "> Id and Date has no effect on college selection so its better to drop those columns"
   ]
  },
  {
   "cell_type": "code",
   "execution_count": 5,
   "metadata": {
    "colab": {
     "base_uri": "https://localhost:8080/"
    },
    "id": "Z47IVOw49ixX",
    "outputId": "501d4ef0-3cec-41ba-ae30-a4c46e1e8337"
   },
   "outputs": [
    {
     "name": "stdout",
     "output_type": "stream",
     "text": [
      "No. of unique values : 23 ,   object  for  sem\n",
      "No. of unique values : 1 ,   object  for  notif_result\n",
      "No. of unique values : 4 ,   object  for  studentType\n",
      "No. of unique values : 298 ,   float64  for  gpa\n",
      "No. of unique values : 37 ,   int64  for  gre_v\n",
      "No. of unique values : 40 ,   int64  for  gre_q\n",
      "No. of unique values : 27 ,   float64  for  gre_w\n",
      "No. of unique values : 259 ,   object  for  institution\n",
      "No. of unique values : 86 ,   object  for  major\n",
      "No. of unique values : 1 ,   object  for  degree\n"
     ]
    }
   ],
   "source": [
    "features=df.columns\n",
    "for feature in features:\n",
    "  print(\"No. of unique values :\",df[feature].nunique(),\",  \",df[feature].dtype,\" for \",feature)"
   ]
  },
  {
   "cell_type": "markdown",
   "metadata": {
    "id": "NDq8a0e0a7eL"
   },
   "source": [
    "> Checking for number of unique values in each column"
   ]
  },
  {
   "cell_type": "code",
   "execution_count": 6,
   "metadata": {
    "id": "vhmTrF9N9vZ5"
   },
   "outputs": [],
   "source": [
    "df=df.drop([\"notif_result\",\"degree\",\"studentType\"],axis=1)#these col have very few unique values"
   ]
  },
  {
   "cell_type": "markdown",
   "metadata": {
    "id": "QWtlJrq7bVKc"
   },
   "source": [
    "> These columns have very few uniques values and doesnt contribute to college selection"
   ]
  },
  {
   "cell_type": "code",
   "execution_count": 7,
   "metadata": {
    "colab": {
     "base_uri": "https://localhost:8080/"
    },
    "id": "edX1ompS-D0A",
    "outputId": "11ea59bb-3284-45df-9854-4217b0bbbe4b"
   },
   "outputs": [
    {
     "data": {
      "text/plain": [
       "Index(['sem', 'gpa', 'gre_v', 'gre_q', 'gre_w', 'institution', 'major'], dtype='object')"
      ]
     },
     "execution_count": 7,
     "metadata": {},
     "output_type": "execute_result"
    }
   ],
   "source": [
    "df.columns"
   ]
  },
  {
   "cell_type": "code",
   "execution_count": 8,
   "metadata": {
    "id": "nPiiNqA1_o_C"
   },
   "outputs": [],
   "source": [
    "df['major'] = df['major'].astype('str') "
   ]
  },
  {
   "cell_type": "markdown",
   "metadata": {
    "id": "Nmi06eGstEux"
   },
   "source": [
    "> Converted major object type column to string type"
   ]
  },
  {
   "cell_type": "code",
   "execution_count": 9,
   "metadata": {
    "colab": {
     "base_uri": "https://localhost:8080/",
     "height": 204
    },
    "id": "BFiKIlqX9OTv",
    "outputId": "18c4cdce-a774-4c91-c0e5-bc4508000478"
   },
   "outputs": [
    {
     "data": {
      "text/html": [
       "<div>\n",
       "<style scoped>\n",
       "    .dataframe tbody tr th:only-of-type {\n",
       "        vertical-align: middle;\n",
       "    }\n",
       "\n",
       "    .dataframe tbody tr th {\n",
       "        vertical-align: top;\n",
       "    }\n",
       "\n",
       "    .dataframe thead th {\n",
       "        text-align: right;\n",
       "    }\n",
       "</style>\n",
       "<table border=\"1\" class=\"dataframe\">\n",
       "  <thead>\n",
       "    <tr style=\"text-align: right;\">\n",
       "      <th></th>\n",
       "      <th>sem</th>\n",
       "      <th>gpa</th>\n",
       "      <th>gre_v</th>\n",
       "      <th>gre_q</th>\n",
       "      <th>gre_w</th>\n",
       "      <th>institution</th>\n",
       "      <th>major</th>\n",
       "    </tr>\n",
       "  </thead>\n",
       "  <tbody>\n",
       "    <tr>\n",
       "      <th>0</th>\n",
       "      <td>1</td>\n",
       "      <td>3.60</td>\n",
       "      <td>154</td>\n",
       "      <td>155</td>\n",
       "      <td>0.0</td>\n",
       "      <td>University College London (UCL)  https://www.u...</td>\n",
       "      <td>78</td>\n",
       "    </tr>\n",
       "    <tr>\n",
       "      <th>1</th>\n",
       "      <td>1</td>\n",
       "      <td>3.60</td>\n",
       "      <td>154</td>\n",
       "      <td>155</td>\n",
       "      <td>0.0</td>\n",
       "      <td>London School of Economics and Political Scien...</td>\n",
       "      <td>77</td>\n",
       "    </tr>\n",
       "    <tr>\n",
       "      <th>2</th>\n",
       "      <td>1</td>\n",
       "      <td>3.75</td>\n",
       "      <td>167</td>\n",
       "      <td>161</td>\n",
       "      <td>0.0</td>\n",
       "      <td>Cornell University https://www.cornell.edu/</td>\n",
       "      <td>77</td>\n",
       "    </tr>\n",
       "    <tr>\n",
       "      <th>3</th>\n",
       "      <td>1</td>\n",
       "      <td>3.56</td>\n",
       "      <td>156</td>\n",
       "      <td>161</td>\n",
       "      <td>4.5</td>\n",
       "      <td>University of Southern California (USC) https:...</td>\n",
       "      <td>20</td>\n",
       "    </tr>\n",
       "    <tr>\n",
       "      <th>4</th>\n",
       "      <td>1</td>\n",
       "      <td>4.00</td>\n",
       "      <td>165</td>\n",
       "      <td>166</td>\n",
       "      <td>4.5</td>\n",
       "      <td>Stanford University https://www.stanford.edu/</td>\n",
       "      <td>57</td>\n",
       "    </tr>\n",
       "  </tbody>\n",
       "</table>\n",
       "</div>"
      ],
      "text/plain": [
       "   sem   gpa  gre_v  gre_q  gre_w  \\\n",
       "0    1  3.60    154    155    0.0   \n",
       "1    1  3.60    154    155    0.0   \n",
       "2    1  3.75    167    161    0.0   \n",
       "3    1  3.56    156    161    4.5   \n",
       "4    1  4.00    165    166    4.5   \n",
       "\n",
       "                                         institution  major  \n",
       "0  University College London (UCL)  https://www.u...     78  \n",
       "1  London School of Economics and Political Scien...     77  \n",
       "2        Cornell University https://www.cornell.edu/     77  \n",
       "3  University of Southern California (USC) https:...     20  \n",
       "4      Stanford University https://www.stanford.edu/     57  "
      ]
     },
     "execution_count": 9,
     "metadata": {},
     "output_type": "execute_result"
    }
   ],
   "source": [
    "# Label Encoding\n",
    "\n",
    "from sklearn import preprocessing\n",
    "le = preprocessing.LabelEncoder()\n",
    "le3 = preprocessing.LabelEncoder()\n",
    "df['sem'] = le.fit_transform(df['sem'])\n",
    "df['major'] = le3.fit_transform(df['major'])\n",
    "\n",
    "df.head()"
   ]
  },
  {
   "cell_type": "markdown",
   "metadata": {
    "id": "0QwJDE9otKZj"
   },
   "source": [
    "> Label encoding for object/string type columns "
   ]
  },
  {
   "cell_type": "code",
   "execution_count": 10,
   "metadata": {
    "colab": {
     "base_uri": "https://localhost:8080/",
     "height": 204
    },
    "id": "kp64nu78fRas",
    "outputId": "c3a8f49b-1721-4486-8868-07dd69a6555e"
   },
   "outputs": [
    {
     "data": {
      "text/html": [
       "<div>\n",
       "<style scoped>\n",
       "    .dataframe tbody tr th:only-of-type {\n",
       "        vertical-align: middle;\n",
       "    }\n",
       "\n",
       "    .dataframe tbody tr th {\n",
       "        vertical-align: top;\n",
       "    }\n",
       "\n",
       "    .dataframe thead th {\n",
       "        text-align: right;\n",
       "    }\n",
       "</style>\n",
       "<table border=\"1\" class=\"dataframe\">\n",
       "  <thead>\n",
       "    <tr style=\"text-align: right;\">\n",
       "      <th></th>\n",
       "      <th>sem</th>\n",
       "      <th>gpa</th>\n",
       "      <th>gre_v</th>\n",
       "      <th>gre_q</th>\n",
       "      <th>gre_w</th>\n",
       "      <th>institution</th>\n",
       "      <th>major</th>\n",
       "    </tr>\n",
       "  </thead>\n",
       "  <tbody>\n",
       "    <tr>\n",
       "      <th>0</th>\n",
       "      <td>1</td>\n",
       "      <td>3.60</td>\n",
       "      <td>154</td>\n",
       "      <td>155</td>\n",
       "      <td>0.0</td>\n",
       "      <td>158</td>\n",
       "      <td>78</td>\n",
       "    </tr>\n",
       "    <tr>\n",
       "      <th>1</th>\n",
       "      <td>1</td>\n",
       "      <td>3.60</td>\n",
       "      <td>154</td>\n",
       "      <td>155</td>\n",
       "      <td>0.0</td>\n",
       "      <td>81</td>\n",
       "      <td>77</td>\n",
       "    </tr>\n",
       "    <tr>\n",
       "      <th>2</th>\n",
       "      <td>1</td>\n",
       "      <td>3.75</td>\n",
       "      <td>167</td>\n",
       "      <td>161</td>\n",
       "      <td>0.0</td>\n",
       "      <td>34</td>\n",
       "      <td>77</td>\n",
       "    </tr>\n",
       "    <tr>\n",
       "      <th>3</th>\n",
       "      <td>1</td>\n",
       "      <td>3.56</td>\n",
       "      <td>156</td>\n",
       "      <td>161</td>\n",
       "      <td>4.5</td>\n",
       "      <td>224</td>\n",
       "      <td>20</td>\n",
       "    </tr>\n",
       "    <tr>\n",
       "      <th>4</th>\n",
       "      <td>1</td>\n",
       "      <td>4.00</td>\n",
       "      <td>165</td>\n",
       "      <td>166</td>\n",
       "      <td>4.5</td>\n",
       "      <td>145</td>\n",
       "      <td>57</td>\n",
       "    </tr>\n",
       "  </tbody>\n",
       "</table>\n",
       "</div>"
      ],
      "text/plain": [
       "   sem   gpa  gre_v  gre_q  gre_w  institution  major\n",
       "0    1  3.60    154    155    0.0          158     78\n",
       "1    1  3.60    154    155    0.0           81     77\n",
       "2    1  3.75    167    161    0.0           34     77\n",
       "3    1  3.56    156    161    4.5          224     20\n",
       "4    1  4.00    165    166    4.5          145     57"
      ]
     },
     "execution_count": 10,
     "metadata": {},
     "output_type": "execute_result"
    }
   ],
   "source": [
    "le2 = preprocessing.LabelEncoder()\n",
    "df[\"institution\"]= le2.fit_transform(df[\"institution\"])\n",
    "# p = le2.inverse_transform(y)\n",
    "df.head()"
   ]
  },
  {
   "cell_type": "markdown",
   "metadata": {
    "id": "yy6ZIfvJtQZ2"
   },
   "source": [
    "> Seperate label encoding for target column\n",
    "\n"
   ]
  },
  {
   "cell_type": "code",
   "execution_count": 11,
   "metadata": {
    "colab": {
     "base_uri": "https://localhost:8080/"
    },
    "id": "l9-0SGtK_9Qw",
    "outputId": "38e1c94f-b60b-4bb8-e0ae-9bb01ce8a71e"
   },
   "outputs": [],
   "source": [
    "# splitting\n",
    "msk=np.random.rand(len(df))<0.85\n",
    "dftrain=df[msk]\n",
    "dftest=df[~msk]\n",
    "#getting target feature from dataset\n",
    "ytrain=pd.DataFrame(dftrain['institution'])\n",
    "ytest=pd.DataFrame(dftest['institution'])\n",
    "\n",
    "#dropping y column from dftrain and dftest\n",
    "dftrain.drop([\"institution\"],axis=1,inplace=True)\n",
    "dftest.drop([\"institution\"],axis=1,inplace=True)"
   ]
  },
  {
   "cell_type": "markdown",
   "metadata": {
    "id": "Q78VzNn4taLL"
   },
   "source": [
    "> Splitting of data into train and test set with 85:15 ratio"
   ]
  },
  {
   "cell_type": "markdown",
   "metadata": {
    "id": "yXZuvdLMgzx_"
   },
   "source": [
    "## Model Creation"
   ]
  },
  {
   "cell_type": "markdown",
   "metadata": {
    "id": "oia6eW-lthMn"
   },
   "source": [
    "> Importing packages"
   ]
  },
  {
   "cell_type": "code",
   "execution_count": 12,
   "metadata": {
    "id": "TSDjIKnB_l40"
   },
   "outputs": [],
   "source": [
    "from sklearn.tree import DecisionTreeClassifier\n",
    "from sklearn.naive_bayes import GaussianNB\n",
    "from sklearn.ensemble import RandomForestClassifier\n",
    "from sklearn.linear_model import LogisticRegression\n",
    "from sklearn.neighbors import KNeighborsClassifier\n",
    "from sklearn.svm import SVC\n",
    "from sklearn.metrics import accuracy_score , recall_score, precision_score, f1_score, cohen_kappa_score, roc_auc_score\n",
    "from sklearn.linear_model import SGDClassifier\n",
    "import time\n",
    "from sklearn import metrics"
   ]
  },
  {
   "cell_type": "markdown",
   "metadata": {
    "id": "o9lmdeI7abor"
   },
   "source": [
    "### 1.Decision Tree"
   ]
  },
  {
   "cell_type": "code",
   "execution_count": 13,
   "metadata": {
    "id": "h2XhrihL_zAf"
   },
   "outputs": [],
   "source": [
    "acc=[]\n",
    "timer=[]\n",
    "criterias=[\"accuracy_score\",\"recall_score\",\"precision_score\",\"f1_score\",\"cohen_kappa_score\",\"roc_auc_score\"]"
   ]
  },
  {
   "cell_type": "code",
   "execution_count": 14,
   "metadata": {
    "colab": {
     "base_uri": "https://localhost:8080/"
    },
    "id": "lLsfk7po_0kX",
    "outputId": "c646a8b7-8507-4fd9-9f5c-784d1e5cf861"
   },
   "outputs": [
    {
     "name": "stdout",
     "output_type": "stream",
     "text": [
      "Time taken =  190.54698944091797\n",
      "Decision Tree Classifer Created\n"
     ]
    }
   ],
   "source": [
    "x=time.time()\n",
    "model1=DecisionTreeClassifier(max_depth=10)\n",
    "model1=model1.fit(dftrain,ytrain)\n",
    "\n",
    "now=(time.time()-x)*1000\n",
    "print('Time taken = ',now)\n",
    "timer.append(now)\n",
    "print('Decision Tree Classifer Created')"
   ]
  },
  {
   "cell_type": "code",
   "execution_count": 15,
   "metadata": {
    "colab": {
     "base_uri": "https://localhost:8080/"
    },
    "id": "5tK3UCji_4Ue",
    "outputId": "dca2dc6e-d8a1-4eb6-b038-ea38c0e42074"
   },
   "outputs": [
    {
     "name": "stdout",
     "output_type": "stream",
     "text": [
      "Accuracy: 0.13682941531042797\n"
     ]
    }
   ],
   "source": [
    "ypred = model1.predict(dftest)\n",
    "ypredtrain=model1.predict(dftrain)\n",
    "print(\"Accuracy:\",metrics.accuracy_score(ypredtrain, ytrain))\n",
    "\n"
   ]
  },
  {
   "cell_type": "code",
   "execution_count": 16,
   "metadata": {
    "id": "C1L7yeoPKYWV"
   },
   "outputs": [],
   "source": [
    "acc2=[]\n",
    "tacc2=[]\n",
    "for criteria in criterias:\n",
    "  try:\n",
    "    acc2.append((round(eval(criteria+\"(ypredtrain,ytrain)\"),2)))\n",
    "  except:\n",
    "    if criteria==\"roc_auc_score\":\n",
    "      acc2.append(roc_auc_score(ytrain, model1.predict_proba(dftrain), multi_class='ovr'))\n",
    "    else:\n",
    "      acc2.append((round(eval(criteria+\"(ypredtrain,ytrain,average='micro')\"),2)))\n",
    "      \n",
    "acc.append(acc2)"
   ]
  },
  {
   "cell_type": "markdown",
   "metadata": {
    "id": "azMPLYtCtnRL"
   },
   "source": [
    "> Finding all metrics"
   ]
  },
  {
   "cell_type": "markdown",
   "metadata": {
    "id": "gDAEEx42f8X2"
   },
   "source": [
    "### 2. Random Forest"
   ]
  },
  {
   "cell_type": "code",
   "execution_count": 17,
   "metadata": {
    "colab": {
     "base_uri": "https://localhost:8080/"
    },
    "id": "SHqqoQrEAg2m",
    "outputId": "345616d0-e524-499d-8dc2-dfdc96e2a3f4"
   },
   "outputs": [
    {
     "name": "stdout",
     "output_type": "stream",
     "text": [
      "Time taken =  67416.19277000427\n",
      "random Forest Classifer Created\n"
     ]
    }
   ],
   "source": [
    "x=time.time()\n",
    "\n",
    "model3=RandomForestClassifier(criterion= 'entropy', max_depth= 20, max_features='log2', n_estimators= 500)\n",
    "model3=model3.fit(dftrain,ytrain.values.ravel())\n",
    "\n",
    "now=(time.time()-x)*1000\n",
    "print('Time taken = ',now)\n",
    "timer.append(now)\n",
    "print('random Forest Classifer Created')"
   ]
  },
  {
   "cell_type": "code",
   "execution_count": 18,
   "metadata": {
    "colab": {
     "base_uri": "https://localhost:8080/"
    },
    "id": "Kh5-EoCIBMks",
    "outputId": "5b855ba4-f2da-494b-d912-037cf017698e"
   },
   "outputs": [
    {
     "name": "stdout",
     "output_type": "stream",
     "text": [
      "Accuracy: 0.8150583593621569\n"
     ]
    }
   ],
   "source": [
    "ypred = model3.predict(dftest)\n",
    "ypredtrain=model3.predict(dftrain)\n",
    "print(\"Accuracy:\",metrics.accuracy_score(ypredtrain, ytrain))\n",
    "\n"
   ]
  },
  {
   "cell_type": "code",
   "execution_count": 19,
   "metadata": {
    "id": "CZGdfywTMdpC"
   },
   "outputs": [],
   "source": [
    "acc2=[]\n",
    "tacc2=[]\n",
    "for criteria in criterias:\n",
    "  try:\n",
    "    acc2.append((round(eval(criteria+\"(ypredtrain,ytrain)\"),2)))\n",
    "  except:\n",
    "    if criteria==\"roc_auc_score\":\n",
    "      acc2.append(roc_auc_score(ytrain, model3.predict_proba(dftrain), multi_class='ovr'))\n",
    "    else:\n",
    "      acc2.append((round(eval(criteria+\"(ypredtrain,ytrain,average='micro')\"),2)))\n",
    "acc.append(acc2)"
   ]
  },
  {
   "cell_type": "markdown",
   "metadata": {
    "id": "qbXW6AwigEt8"
   },
   "source": [
    "### 3. Logistic Regression"
   ]
  },
  {
   "cell_type": "code",
   "execution_count": 20,
   "metadata": {
    "colab": {
     "base_uri": "https://localhost:8080/"
    },
    "id": "IEXlWzHvf68U",
    "outputId": "8fa34fba-87b3-4a72-d76e-7729d9b25fd2"
   },
   "outputs": [
    {
     "name": "stdout",
     "output_type": "stream",
     "text": [
      "Time taken =  22559.741020202637\n",
      "Logistic Regression model Created\n"
     ]
    },
    {
     "name": "stderr",
     "output_type": "stream",
     "text": [
      "C:\\Users\\clint\\anaconda3\\lib\\site-packages\\sklearn\\linear_model\\_logistic.py:762: ConvergenceWarning: lbfgs failed to converge (status=1):\n",
      "STOP: TOTAL NO. of ITERATIONS REACHED LIMIT.\n",
      "\n",
      "Increase the number of iterations (max_iter) or scale the data as shown in:\n",
      "    https://scikit-learn.org/stable/modules/preprocessing.html\n",
      "Please also refer to the documentation for alternative solver options:\n",
      "    https://scikit-learn.org/stable/modules/linear_model.html#logistic-regression\n",
      "  n_iter_i = _check_optimize_result(\n"
     ]
    }
   ],
   "source": [
    "x=time.time()\n",
    "\n",
    "model4=LogisticRegression()\n",
    "model4=model4.fit(dftrain,ytrain.values.ravel())\n",
    "\n",
    "now=(time.time()-x)*1000\n",
    "print('Time taken = ',now)\n",
    "timer.append(now)\n",
    "print('Logistic Regression model Created')"
   ]
  },
  {
   "cell_type": "code",
   "execution_count": 21,
   "metadata": {
    "colab": {
     "base_uri": "https://localhost:8080/"
    },
    "id": "M0jVIduBgBhE",
    "outputId": "11b02fce-fe94-4a3e-fc62-53838fe03647"
   },
   "outputs": [
    {
     "name": "stdout",
     "output_type": "stream",
     "text": [
      "Accuracy: 0.05019453120718943\n"
     ]
    }
   ],
   "source": [
    "ypred = model4.predict(dftest)\n",
    "ypredtrain=model4.predict(dftrain)\n",
    "print(\"Accuracy:\",metrics.accuracy_score(ypredtrain, ytrain))\n",
    "\n"
   ]
  },
  {
   "cell_type": "code",
   "execution_count": 22,
   "metadata": {
    "id": "DnuHQY3ZMetq"
   },
   "outputs": [],
   "source": [
    "acc2=[]\n",
    "tacc2=[]\n",
    "for criteria in criterias:\n",
    "  try:\n",
    "    acc2.append((round(eval(criteria+\"(ypredtrain,ytrain)\"),2)))\n",
    "  except:\n",
    "    if criteria==\"roc_auc_score\":\n",
    "      acc2.append(roc_auc_score(ytrain, model4.predict_proba(dftrain), multi_class='ovr'))\n",
    "    else:\n",
    "      acc2.append((round(eval(criteria+\"(ypredtrain,ytrain,average='micro')\"),2)))\n",
    "acc.append(acc2)"
   ]
  },
  {
   "cell_type": "markdown",
   "metadata": {
    "id": "aM1j8q-JgULj"
   },
   "source": [
    "### 4. K-Nearest Neighbor"
   ]
  },
  {
   "cell_type": "code",
   "execution_count": 23,
   "metadata": {
    "colab": {
     "base_uri": "https://localhost:8080/"
    },
    "id": "oyfVr8CegIP2",
    "outputId": "5f01444f-0cb5-4de9-9488-0f641d11750d"
   },
   "outputs": [
    {
     "name": "stderr",
     "output_type": "stream",
     "text": [
      "C:\\Users\\clint\\anaconda3\\lib\\site-packages\\sklearn\\model_selection\\_split.py:670: UserWarning: The least populated class in y has only 1 members, which is less than n_splits=5.\n",
      "  warnings.warn((\"The least populated class in y has only %d\"\n"
     ]
    },
    {
     "data": {
      "text/plain": [
       "GridSearchCV(cv=5, estimator=KNeighborsClassifier(),\n",
       "             param_grid={'n_neighbors': [2, 3, 4, 5, 6, 7, 8, 9]})"
      ]
     },
     "execution_count": 23,
     "metadata": {},
     "output_type": "execute_result"
    }
   ],
   "source": [
    "\n",
    "from sklearn.model_selection import GridSearchCV\n",
    "# For knowing best k value\n",
    "params = {'n_neighbors':[2,3,4,5,6,7,8,9]}\n",
    "\n",
    "knn = KNeighborsClassifier()\n",
    "\n",
    "model = GridSearchCV(knn, params, cv=5)\n",
    "model.fit(dftrain,ytrain.values.ravel())"
   ]
  },
  {
   "cell_type": "markdown",
   "metadata": {
    "id": "2CP7LxDHtwc5"
   },
   "source": [
    "> FInd best value of k using grid search cv"
   ]
  },
  {
   "cell_type": "code",
   "execution_count": 24,
   "metadata": {
    "colab": {
     "base_uri": "https://localhost:8080/"
    },
    "id": "fMMCWoHPgNWr",
    "outputId": "a54c339f-6a88-4a43-b027-b7a749a855f8"
   },
   "outputs": [
    {
     "data": {
      "text/plain": [
       "{'n_neighbors': 9}"
      ]
     },
     "execution_count": 24,
     "metadata": {},
     "output_type": "execute_result"
    }
   ],
   "source": [
    "model.best_params_"
   ]
  },
  {
   "cell_type": "code",
   "execution_count": 25,
   "metadata": {
    "colab": {
     "base_uri": "https://localhost:8080/"
    },
    "id": "lDl4CSQhgSuz",
    "outputId": "cb7b2699-3528-4195-f2e9-4d4e4debb9b7"
   },
   "outputs": [
    {
     "name": "stdout",
     "output_type": "stream",
     "text": [
      "Time taken =  49.00002479553223\n",
      "K_nearest Neighbor model Created\n"
     ]
    }
   ],
   "source": [
    "x=time.time()\n",
    "\n",
    "model5=KNeighborsClassifier(8)\n",
    "model5=model5.fit(dftrain,ytrain.values.ravel())\n",
    "\n",
    "now=(time.time()-x)*1000\n",
    "print('Time taken = ',now)\n",
    "timer.append(now)\n",
    "print('K_nearest Neighbor model Created')"
   ]
  },
  {
   "cell_type": "code",
   "execution_count": 26,
   "metadata": {
    "colab": {
     "base_uri": "https://localhost:8080/"
    },
    "id": "797gDLN8gZgq",
    "outputId": "8e247f21-b9b5-46fc-bebe-6563d259fc2e"
   },
   "outputs": [
    {
     "name": "stdout",
     "output_type": "stream",
     "text": [
      "Accuracy: 0.2203956381171571\n"
     ]
    }
   ],
   "source": [
    "ypred = model5.predict(dftest)\n",
    "ypredtrain=model5.predict(dftrain)\n",
    "print(\"Accuracy:\",metrics.accuracy_score(ypredtrain, ytrain))\n"
   ]
  },
  {
   "cell_type": "code",
   "execution_count": 27,
   "metadata": {
    "id": "CEovJCXUMfkn"
   },
   "outputs": [],
   "source": [
    "acc2=[]\n",
    "tacc2=[]\n",
    "for criteria in criterias:\n",
    "  try:\n",
    "    acc2.append((round(eval(criteria+\"(ypredtrain,ytrain)\"),2)))\n",
    "  except:\n",
    "    if criteria==\"roc_auc_score\":\n",
    "      acc2.append(roc_auc_score(ytrain, model5.predict_proba(dftrain), multi_class='ovr'))\n",
    "    else:\n",
    "      acc2.append((round(eval(criteria+\"(ypredtrain,ytrain,average='micro')\"),2)))\n",
    "acc.append(acc2)"
   ]
  },
  {
   "cell_type": "markdown",
   "metadata": {
    "id": "1j9UG1eHge0E"
   },
   "source": [
    "### 5. SVM"
   ]
  },
  {
   "cell_type": "code",
   "execution_count": 28,
   "metadata": {
    "colab": {
     "base_uri": "https://localhost:8080/"
    },
    "id": "8tf2PNUGgbVR",
    "outputId": "8138387d-9736-40b0-c616-60337adab282"
   },
   "outputs": [
    {
     "name": "stdout",
     "output_type": "stream",
     "text": [
      "Time taken =  13397.722005844116\n",
      "Support Vector Machine model Created\n"
     ]
    }
   ],
   "source": [
    "x=time.time()\n",
    "\n",
    "model6=SVC()\n",
    "model6=model6.fit(dftrain,ytrain.values.ravel())\n",
    "\n",
    "now=(time.time()-x)*1000\n",
    "print('Time taken = ',now)\n",
    "timer.append(now)\n",
    "print('Support Vector Machine model Created')"
   ]
  },
  {
   "cell_type": "code",
   "execution_count": 29,
   "metadata": {
    "colab": {
     "base_uri": "https://localhost:8080/"
    },
    "id": "w-mkI8N5giyA",
    "outputId": "ddc795d1-b813-4abb-991a-53ad78eadcc2"
   },
   "outputs": [
    {
     "name": "stdout",
     "output_type": "stream",
     "text": [
      "Accuracy: 0.04482437393829799\n"
     ]
    }
   ],
   "source": [
    "ypred = model6.predict(dftest)\n",
    "ypredtrain=model6.predict(dftrain)\n",
    "print(\"Accuracy:\",metrics.accuracy_score(ypredtrain, ytrain))\n"
   ]
  },
  {
   "cell_type": "code",
   "execution_count": 30,
   "metadata": {
    "id": "2H7tvT_gMgpH"
   },
   "outputs": [],
   "source": [
    "acc2=[]\n",
    "tacc2=[]\n",
    "for criteria in criterias:\n",
    "  try:\n",
    "    acc2.append((round(eval(criteria+\"(ypredtrain,ytrain)\"),2)))\n",
    "  except:\n",
    "    if criteria==\"roc_auc_score\":\n",
    "      # acc2.append(roc_auc_score(ytrain, model6.predict_proba(dftrain), multi_class='ovr'))\n",
    "      acc2.append(\"NA\")\n",
    "    else:\n",
    "      acc2.append((round(eval(criteria+\"(ypredtrain,ytrain,average='micro')\"),2)))\n",
    "acc.append(acc2)"
   ]
  },
  {
   "cell_type": "markdown",
   "metadata": {
    "id": "zKo5Sz8gneiG"
   },
   "source": [
    "## Results"
   ]
  },
  {
   "cell_type": "code",
   "execution_count": 31,
   "metadata": {
    "colab": {
     "base_uri": "https://localhost:8080/",
     "height": 204
    },
    "id": "yI3Hn1j5aa1p",
    "outputId": "8c3b7f6e-aaa4-4cab-b792-08ebf213dc12"
   },
   "outputs": [
    {
     "data": {
      "text/html": [
       "<div>\n",
       "<style scoped>\n",
       "    .dataframe tbody tr th:only-of-type {\n",
       "        vertical-align: middle;\n",
       "    }\n",
       "\n",
       "    .dataframe tbody tr th {\n",
       "        vertical-align: top;\n",
       "    }\n",
       "\n",
       "    .dataframe thead th {\n",
       "        text-align: right;\n",
       "    }\n",
       "</style>\n",
       "<table border=\"1\" class=\"dataframe\">\n",
       "  <thead>\n",
       "    <tr style=\"text-align: right;\">\n",
       "      <th></th>\n",
       "      <th>accuracy_score</th>\n",
       "      <th>recall_score</th>\n",
       "      <th>precision_score</th>\n",
       "      <th>f1_score</th>\n",
       "      <th>cohen_kappa_score</th>\n",
       "      <th>roc_auc_score</th>\n",
       "    </tr>\n",
       "  </thead>\n",
       "  <tbody>\n",
       "    <tr>\n",
       "      <th>0</th>\n",
       "      <td>0.14</td>\n",
       "      <td>0.14</td>\n",
       "      <td>0.14</td>\n",
       "      <td>0.14</td>\n",
       "      <td>0.12</td>\n",
       "      <td>0.924401</td>\n",
       "    </tr>\n",
       "    <tr>\n",
       "      <th>1</th>\n",
       "      <td>0.82</td>\n",
       "      <td>0.82</td>\n",
       "      <td>0.82</td>\n",
       "      <td>0.82</td>\n",
       "      <td>0.81</td>\n",
       "      <td>0.999719</td>\n",
       "    </tr>\n",
       "    <tr>\n",
       "      <th>2</th>\n",
       "      <td>0.05</td>\n",
       "      <td>0.05</td>\n",
       "      <td>0.05</td>\n",
       "      <td>0.05</td>\n",
       "      <td>0.02</td>\n",
       "      <td>0.724101</td>\n",
       "    </tr>\n",
       "    <tr>\n",
       "      <th>3</th>\n",
       "      <td>0.22</td>\n",
       "      <td>0.22</td>\n",
       "      <td>0.22</td>\n",
       "      <td>0.22</td>\n",
       "      <td>0.21</td>\n",
       "      <td>0.989431</td>\n",
       "    </tr>\n",
       "    <tr>\n",
       "      <th>4</th>\n",
       "      <td>0.04</td>\n",
       "      <td>0.04</td>\n",
       "      <td>0.04</td>\n",
       "      <td>0.04</td>\n",
       "      <td>0.00</td>\n",
       "      <td>0.530000</td>\n",
       "    </tr>\n",
       "  </tbody>\n",
       "</table>\n",
       "</div>"
      ],
      "text/plain": [
       "   accuracy_score  recall_score  precision_score  f1_score  cohen_kappa_score  \\\n",
       "0            0.14          0.14             0.14      0.14               0.12   \n",
       "1            0.82          0.82             0.82      0.82               0.81   \n",
       "2            0.05          0.05             0.05      0.05               0.02   \n",
       "3            0.22          0.22             0.22      0.22               0.21   \n",
       "4            0.04          0.04             0.04      0.04               0.00   \n",
       "\n",
       "   roc_auc_score  \n",
       "0       0.924401  \n",
       "1       0.999719  \n",
       "2       0.724101  \n",
       "3       0.989431  \n",
       "4       0.530000  "
      ]
     },
     "execution_count": 31,
     "metadata": {},
     "output_type": "execute_result"
    }
   ],
   "source": [
    "acc=pd.DataFrame(acc)\n",
    "acc2=acc.rename(columns = {0:criterias[0],1:criterias[1],2:criterias[2],3:criterias[3],4:criterias[4],5:criterias[5]}, inplace = False)\n",
    "acc2"
   ]
  },
  {
   "cell_type": "markdown",
   "metadata": {
    "id": "rih4sphut8k_"
   },
   "source": [
    "> Metrics of all models"
   ]
  },
  {
   "cell_type": "code",
   "execution_count": 32,
   "metadata": {
    "colab": {
     "base_uri": "https://localhost:8080/",
     "height": 204
    },
    "id": "Kguq5WoegklW",
    "outputId": "cf0ae24e-14f9-46a2-c6be-e55dae2a7c2c"
   },
   "outputs": [
    {
     "data": {
      "text/html": [
       "<div>\n",
       "<style scoped>\n",
       "    .dataframe tbody tr th:only-of-type {\n",
       "        vertical-align: middle;\n",
       "    }\n",
       "\n",
       "    .dataframe tbody tr th {\n",
       "        vertical-align: top;\n",
       "    }\n",
       "\n",
       "    .dataframe thead th {\n",
       "        text-align: right;\n",
       "    }\n",
       "</style>\n",
       "<table border=\"1\" class=\"dataframe\">\n",
       "  <thead>\n",
       "    <tr style=\"text-align: right;\">\n",
       "      <th></th>\n",
       "      <th>Modelling Algo</th>\n",
       "      <th>Timing(in ms)</th>\n",
       "    </tr>\n",
       "  </thead>\n",
       "  <tbody>\n",
       "    <tr>\n",
       "      <th>0</th>\n",
       "      <td>decision tree</td>\n",
       "      <td>190.546989</td>\n",
       "    </tr>\n",
       "    <tr>\n",
       "      <th>1</th>\n",
       "      <td>random forest</td>\n",
       "      <td>67416.192770</td>\n",
       "    </tr>\n",
       "    <tr>\n",
       "      <th>2</th>\n",
       "      <td>logistic regression</td>\n",
       "      <td>22559.741020</td>\n",
       "    </tr>\n",
       "    <tr>\n",
       "      <th>3</th>\n",
       "      <td>K-Nearest Neighbor</td>\n",
       "      <td>49.000025</td>\n",
       "    </tr>\n",
       "    <tr>\n",
       "      <th>4</th>\n",
       "      <td>Support Vector Machine</td>\n",
       "      <td>13397.722006</td>\n",
       "    </tr>\n",
       "  </tbody>\n",
       "</table>\n",
       "</div>"
      ],
      "text/plain": [
       "           Modelling Algo  Timing(in ms)\n",
       "0           decision tree     190.546989\n",
       "1           random forest   67416.192770\n",
       "2     logistic regression   22559.741020\n",
       "3      K-Nearest Neighbor      49.000025\n",
       "4  Support Vector Machine   13397.722006"
      ]
     },
     "execution_count": 32,
     "metadata": {},
     "output_type": "execute_result"
    }
   ],
   "source": [
    "model_names=[\"decision tree\",\"random forest\",\"logistic regression\",\"K-Nearest Neighbor\",\"Support Vector Machine\"]\n",
    "comparison={'Modelling Algo':model_names,'Timing(in ms)':timer}\n",
    "acc_frame=pd.DataFrame(comparison)\n",
    "acc_frame"
   ]
  },
  {
   "cell_type": "code",
   "execution_count": 33,
   "metadata": {
    "colab": {
     "base_uri": "https://localhost:8080/",
     "height": 204
    },
    "id": "ygi4ln4gaDvp",
    "outputId": "bcf5d679-f0bb-426f-e8db-4331b0a81dab"
   },
   "outputs": [
    {
     "data": {
      "text/html": [
       "<div>\n",
       "<style scoped>\n",
       "    .dataframe tbody tr th:only-of-type {\n",
       "        vertical-align: middle;\n",
       "    }\n",
       "\n",
       "    .dataframe tbody tr th {\n",
       "        vertical-align: top;\n",
       "    }\n",
       "\n",
       "    .dataframe thead th {\n",
       "        text-align: right;\n",
       "    }\n",
       "</style>\n",
       "<table border=\"1\" class=\"dataframe\">\n",
       "  <thead>\n",
       "    <tr style=\"text-align: right;\">\n",
       "      <th></th>\n",
       "      <th>Modelling Algo</th>\n",
       "      <th>Timing(in ms)</th>\n",
       "      <th>accuracy_score</th>\n",
       "      <th>recall_score</th>\n",
       "      <th>precision_score</th>\n",
       "      <th>f1_score</th>\n",
       "      <th>cohen_kappa_score</th>\n",
       "      <th>roc_auc_score</th>\n",
       "    </tr>\n",
       "  </thead>\n",
       "  <tbody>\n",
       "    <tr>\n",
       "      <th>0</th>\n",
       "      <td>decision tree</td>\n",
       "      <td>190.546989</td>\n",
       "      <td>0.14</td>\n",
       "      <td>0.14</td>\n",
       "      <td>0.14</td>\n",
       "      <td>0.14</td>\n",
       "      <td>0.12</td>\n",
       "      <td>0.924401</td>\n",
       "    </tr>\n",
       "    <tr>\n",
       "      <th>1</th>\n",
       "      <td>random forest</td>\n",
       "      <td>67416.192770</td>\n",
       "      <td>0.82</td>\n",
       "      <td>0.82</td>\n",
       "      <td>0.82</td>\n",
       "      <td>0.82</td>\n",
       "      <td>0.81</td>\n",
       "      <td>0.999719</td>\n",
       "    </tr>\n",
       "    <tr>\n",
       "      <th>2</th>\n",
       "      <td>logistic regression</td>\n",
       "      <td>22559.741020</td>\n",
       "      <td>0.05</td>\n",
       "      <td>0.05</td>\n",
       "      <td>0.05</td>\n",
       "      <td>0.05</td>\n",
       "      <td>0.02</td>\n",
       "      <td>0.724101</td>\n",
       "    </tr>\n",
       "    <tr>\n",
       "      <th>3</th>\n",
       "      <td>K-Nearest Neighbor</td>\n",
       "      <td>49.000025</td>\n",
       "      <td>0.22</td>\n",
       "      <td>0.22</td>\n",
       "      <td>0.22</td>\n",
       "      <td>0.22</td>\n",
       "      <td>0.21</td>\n",
       "      <td>0.989431</td>\n",
       "    </tr>\n",
       "    <tr>\n",
       "      <th>4</th>\n",
       "      <td>Support Vector Machine</td>\n",
       "      <td>13397.722006</td>\n",
       "      <td>0.04</td>\n",
       "      <td>0.04</td>\n",
       "      <td>0.04</td>\n",
       "      <td>0.04</td>\n",
       "      <td>0.00</td>\n",
       "      <td>0.530000</td>\n",
       "    </tr>\n",
       "  </tbody>\n",
       "</table>\n",
       "</div>"
      ],
      "text/plain": [
       "           Modelling Algo  Timing(in ms)  accuracy_score  recall_score  \\\n",
       "0           decision tree     190.546989            0.14          0.14   \n",
       "1           random forest   67416.192770            0.82          0.82   \n",
       "2     logistic regression   22559.741020            0.05          0.05   \n",
       "3      K-Nearest Neighbor      49.000025            0.22          0.22   \n",
       "4  Support Vector Machine   13397.722006            0.04          0.04   \n",
       "\n",
       "   precision_score  f1_score  cohen_kappa_score  roc_auc_score  \n",
       "0             0.14      0.14               0.12       0.924401  \n",
       "1             0.82      0.82               0.81       0.999719  \n",
       "2             0.05      0.05               0.02       0.724101  \n",
       "3             0.22      0.22               0.21       0.989431  \n",
       "4             0.04      0.04               0.00       0.530000  "
      ]
     },
     "execution_count": 33,
     "metadata": {},
     "output_type": "execute_result"
    }
   ],
   "source": [
    "res=pd.concat([acc_frame,acc2],axis=1)\n",
    "res"
   ]
  },
  {
   "cell_type": "code",
   "execution_count": 34,
   "metadata": {
    "colab": {
     "base_uri": "https://localhost:8080/",
     "height": 442
    },
    "id": "DQEpd8Heh540",
    "outputId": "1f1845b9-a658-4d93-ad0c-d73f0ec6d0fb"
   },
   "outputs": [
    {
     "data": {
      "text/html": [
       "<div>\n",
       "<style scoped>\n",
       "    .dataframe tbody tr th:only-of-type {\n",
       "        vertical-align: middle;\n",
       "    }\n",
       "\n",
       "    .dataframe tbody tr th {\n",
       "        vertical-align: top;\n",
       "    }\n",
       "\n",
       "    .dataframe thead th {\n",
       "        text-align: right;\n",
       "    }\n",
       "</style>\n",
       "<table border=\"1\" class=\"dataframe\">\n",
       "  <thead>\n",
       "    <tr style=\"text-align: right;\">\n",
       "      <th></th>\n",
       "      <th>0</th>\n",
       "      <th>1</th>\n",
       "      <th>2</th>\n",
       "      <th>3</th>\n",
       "      <th>4</th>\n",
       "      <th>5</th>\n",
       "      <th>6</th>\n",
       "      <th>7</th>\n",
       "      <th>8</th>\n",
       "      <th>9</th>\n",
       "    </tr>\n",
       "  </thead>\n",
       "  <tbody>\n",
       "    <tr>\n",
       "      <th>0</th>\n",
       "      <td>Columbia University https://www.columbia.edu/</td>\n",
       "      <td>University of Florida (UFL) https://www.ufl.edu/</td>\n",
       "      <td>University of South Florida (USF) https://www....</td>\n",
       "      <td>American University https://www.american.edu/</td>\n",
       "      <td>University of Iowa https://uiowa.edu/</td>\n",
       "      <td>Brandeis University https://www.brandeis.edu/</td>\n",
       "      <td>State University of New York at New Paltz (SUN...</td>\n",
       "      <td>Vermont College of Fine Arts https://vcfa.edu/</td>\n",
       "      <td>Stanford University https://www.stanford.edu/</td>\n",
       "      <td>University of Vermont https://www.uvm.edu/</td>\n",
       "    </tr>\n",
       "    <tr>\n",
       "      <th>1</th>\n",
       "      <td>University of Idaho https://www.uidaho.edu/</td>\n",
       "      <td>Carnegie Mellon University (CMU) https://www.c...</td>\n",
       "      <td>New York University (NYU) https://www.nyu.edu/</td>\n",
       "      <td>University of Edinburgh https://www.ed.ac.uk/</td>\n",
       "      <td>Columbia University https://www.columbia.edu/</td>\n",
       "      <td>Colorado State University https://www.colostat...</td>\n",
       "      <td>Cornell University https://www.cornell.edu/</td>\n",
       "      <td>Vermont College of Fine Arts https://vcfa.edu/</td>\n",
       "      <td>Harvard University https://www.harvard.edu/</td>\n",
       "      <td>Purdue University https://www.purdue.edu/</td>\n",
       "    </tr>\n",
       "    <tr>\n",
       "      <th>2</th>\n",
       "      <td>Southern Connecticut State University https://...</td>\n",
       "      <td>University of Idaho https://www.uidaho.edu/</td>\n",
       "      <td>Columbia University https://www.columbia.edu/</td>\n",
       "      <td>University of South Florida (USF) https://www....</td>\n",
       "      <td>Georgia Institute of Technology (Georgia Tech)...</td>\n",
       "      <td>University of Oxford https://www.ox.ac.uk/</td>\n",
       "      <td>Purdue University https://www.purdue.edu/</td>\n",
       "      <td>University of Suffolk https://www.uos.ac.uk/</td>\n",
       "      <td>Massachusetts Institute of Technology (MIT) ht...</td>\n",
       "      <td>University of Edinburgh https://www.ed.ac.uk/</td>\n",
       "    </tr>\n",
       "    <tr>\n",
       "      <th>3</th>\n",
       "      <td>Seton Hall University https://www.shu.edu/</td>\n",
       "      <td>Duquesne University https://www.duq.edu/</td>\n",
       "      <td>Cornell University https://www.cornell.edu/</td>\n",
       "      <td>University of Virginia (UVA) https://www.virgi...</td>\n",
       "      <td>University of Mississippi https://olemiss.edu/</td>\n",
       "      <td>University of South Florida (USF) https://www....</td>\n",
       "      <td>Georgia State University (GSU) https://www.gsu...</td>\n",
       "      <td>McGill University https://www.mcgill.ca/</td>\n",
       "      <td>Stanford University https://www.stanford.edu/</td>\n",
       "      <td>University of New Hampshire https://www.unh.edu/</td>\n",
       "    </tr>\n",
       "    <tr>\n",
       "      <th>4</th>\n",
       "      <td>Georgetown University https://www.georgetown.edu/</td>\n",
       "      <td>University of Vermont https://www.uvm.edu/</td>\n",
       "      <td>University of Rhode Island https://www.uri.edu/</td>\n",
       "      <td>Boston College (BC) https://mba.bc.edu/</td>\n",
       "      <td>University of Connecticut (UConn) https://ucon...</td>\n",
       "      <td>University of Idaho https://www.uidaho.edu/</td>\n",
       "      <td>Brandeis University https://www.brandeis.edu/</td>\n",
       "      <td>Vanderbilt University https://www.vanderbilt.edu/</td>\n",
       "      <td>American University https://www.american.edu/</td>\n",
       "      <td>University of Florida (UFL) https://www.ufl.edu/</td>\n",
       "    </tr>\n",
       "  </tbody>\n",
       "</table>\n",
       "</div>"
      ],
      "text/plain": [
       "                                                   0  \\\n",
       "0      Columbia University https://www.columbia.edu/   \n",
       "1        University of Idaho https://www.uidaho.edu/   \n",
       "2  Southern Connecticut State University https://...   \n",
       "3         Seton Hall University https://www.shu.edu/   \n",
       "4  Georgetown University https://www.georgetown.edu/   \n",
       "\n",
       "                                                   1  \\\n",
       "0   University of Florida (UFL) https://www.ufl.edu/   \n",
       "1  Carnegie Mellon University (CMU) https://www.c...   \n",
       "2        University of Idaho https://www.uidaho.edu/   \n",
       "3           Duquesne University https://www.duq.edu/   \n",
       "4         University of Vermont https://www.uvm.edu/   \n",
       "\n",
       "                                                   2  \\\n",
       "0  University of South Florida (USF) https://www....   \n",
       "1     New York University (NYU) https://www.nyu.edu/   \n",
       "2      Columbia University https://www.columbia.edu/   \n",
       "3        Cornell University https://www.cornell.edu/   \n",
       "4    University of Rhode Island https://www.uri.edu/   \n",
       "\n",
       "                                                   3  \\\n",
       "0      American University https://www.american.edu/   \n",
       "1      University of Edinburgh https://www.ed.ac.uk/   \n",
       "2  University of South Florida (USF) https://www....   \n",
       "3  University of Virginia (UVA) https://www.virgi...   \n",
       "4            Boston College (BC) https://mba.bc.edu/   \n",
       "\n",
       "                                                   4  \\\n",
       "0              University of Iowa https://uiowa.edu/   \n",
       "1      Columbia University https://www.columbia.edu/   \n",
       "2  Georgia Institute of Technology (Georgia Tech)...   \n",
       "3     University of Mississippi https://olemiss.edu/   \n",
       "4  University of Connecticut (UConn) https://ucon...   \n",
       "\n",
       "                                                   5  \\\n",
       "0      Brandeis University https://www.brandeis.edu/   \n",
       "1  Colorado State University https://www.colostat...   \n",
       "2         University of Oxford https://www.ox.ac.uk/   \n",
       "3  University of South Florida (USF) https://www....   \n",
       "4        University of Idaho https://www.uidaho.edu/   \n",
       "\n",
       "                                                   6  \\\n",
       "0  State University of New York at New Paltz (SUN...   \n",
       "1        Cornell University https://www.cornell.edu/   \n",
       "2          Purdue University https://www.purdue.edu/   \n",
       "3  Georgia State University (GSU) https://www.gsu...   \n",
       "4      Brandeis University https://www.brandeis.edu/   \n",
       "\n",
       "                                                   7  \\\n",
       "0     Vermont College of Fine Arts https://vcfa.edu/   \n",
       "1     Vermont College of Fine Arts https://vcfa.edu/   \n",
       "2       University of Suffolk https://www.uos.ac.uk/   \n",
       "3           McGill University https://www.mcgill.ca/   \n",
       "4  Vanderbilt University https://www.vanderbilt.edu/   \n",
       "\n",
       "                                                   8  \\\n",
       "0      Stanford University https://www.stanford.edu/   \n",
       "1        Harvard University https://www.harvard.edu/   \n",
       "2  Massachusetts Institute of Technology (MIT) ht...   \n",
       "3      Stanford University https://www.stanford.edu/   \n",
       "4      American University https://www.american.edu/   \n",
       "\n",
       "                                                  9  \n",
       "0        University of Vermont https://www.uvm.edu/  \n",
       "1         Purdue University https://www.purdue.edu/  \n",
       "2     University of Edinburgh https://www.ed.ac.uk/  \n",
       "3  University of New Hampshire https://www.unh.edu/  \n",
       "4  University of Florida (UFL) https://www.ufl.edu/  "
      ]
     },
     "execution_count": 34,
     "metadata": {},
     "output_type": "execute_result"
    }
   ],
   "source": [
    "#to get top 10 results from bestmodel i.e. Random Forest on test data\n",
    "probs = model3.predict_proba(dftest)\n",
    "best_n = np.argsort(probs, axis=1)[:,-10:]\n",
    "pred=[]\n",
    "for i in best_n:\n",
    "  p2 = le2.inverse_transform(i)\n",
    "  p2=p2[::-1]\n",
    "  pred.append(p2)\n",
    "pd.DataFrame(pred).head()"
   ]
  },
  {
   "cell_type": "markdown",
   "metadata": {
    "id": "63sq0b1ouAxu"
   },
   "source": [
    "> Top 10 college list for all test data"
   ]
  },
  {
   "cell_type": "code",
   "execution_count": null,
   "metadata": {},
   "outputs": [],
   "source": [
    "import pickle\n",
    "\n",
    "with open('le.pickle', 'wb') as handle:\n",
    "    pickle.dump(le, handle, protocol=pickle.HIGHEST_PROTOCOL)\n",
    "    \n",
    "with open('le2.pickle', 'wb') as handle:\n",
    "    pickle.dump(le2, handle, protocol=pickle.HIGHEST_PROTOCOL)\n",
    "    \n",
    "with open('le3.pickle', 'wb') as handle:\n",
    "    pickle.dump(le3, handle, protocol=pickle.HIGHEST_PROTOCOL)\n",
    "    \n",
    "with open('model11.pickle', 'wb') as handle:\n",
    "    pickle.dump(model3, handle, protocol=pickle.DEFAULT_PROTOCOL)\n",
    "    \n",
    "\n",
    "with open('le2.pickle', 'wb') as handle:\n",
    "    pickle.dump(le2, handle, protocol=pickle.DEFAULT_PROTOCOL)"
   ]
  }
 ],
 "metadata": {
  "colab": {
   "collapsed_sections": [],
   "name": "fi4_college_list.ipynb",
   "provenance": []
  },
  "kernelspec": {
   "display_name": "Python 3",
   "language": "python",
   "name": "python3"
  },
  "language_info": {
   "codemirror_mode": {
    "name": "ipython",
    "version": 3
   },
   "file_extension": ".py",
   "mimetype": "text/x-python",
   "name": "python",
   "nbconvert_exporter": "python",
   "pygments_lexer": "ipython3",
   "version": "3.8.5"
  }
 },
 "nbformat": 4,
 "nbformat_minor": 1
}
